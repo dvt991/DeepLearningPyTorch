{
  "nbformat": 4,
  "nbformat_minor": 0,
  "metadata": {
    "kernelspec": {
      "display_name": "Python 3",
      "language": "python",
      "name": "python3"
    },
    "language_info": {
      "codemirror_mode": {
        "name": "ipython",
        "version": 3
      },
      "file_extension": ".py",
      "mimetype": "text/x-python",
      "name": "python",
      "nbconvert_exporter": "python",
      "pygments_lexer": "ipython3",
      "version": "3.7.6"
    },
    "colab": {
      "name": "01-tensor-operations.ipynb",
      "provenance": [],
      "include_colab_link": true
    }
  },
  "cells": [
    {
      "cell_type": "markdown",
      "metadata": {
        "id": "view-in-github",
        "colab_type": "text"
      },
      "source": [
        "<a href=\"https://colab.research.google.com/github/dvt991/DeepLearningPyTorch/blob/master/01_tensor_operations.ipynb\" target=\"_parent\"><img src=\"https://colab.research.google.com/assets/colab-badge.svg\" alt=\"Open In Colab\"/></a>"
      ]
    },
    {
      "cell_type": "markdown",
      "metadata": {
        "id": "kt-vWJoGjtRI",
        "colab_type": "text"
      },
      "source": [
        "# PyTorch Tensors\n",
        "\n",
        "### Main discovered functions\n",
        "Pytorch tensors are the main object to be used when programming using Pytorch library, they implement any scalar, vector, matrix (2D & 3D) as well as a set of functions which makes the life easier when operating them.\n",
        "One of the main benefits of using Pytorch is ts ability for calculating gradients (parcial derivates) of the tensors. Which may be used for minimizing the error of a model using the gradient descent method.\n",
        "\n",
        "After a review of the tensor documentation, find below my selected functions.  \n",
        "- torch.random(): fills the tensor with random values\n",
        "- torch.eig(): computes the eigenvectors of the tensor\n",
        "- resize_(): resize the tensor to a given size\n",
        "- select(): slices the tensor along the selected dimension at the given index\n",
        "- where(): returns a tensor with the values that met the conditon"
      ]
    },
    {
      "cell_type": "code",
      "metadata": {
        "id": "zEtmqwsIjtRK",
        "colab_type": "code",
        "colab": {}
      },
      "source": [
        "# Import torch and other required modules\n",
        "import torch"
      ],
      "execution_count": 0,
      "outputs": []
    },
    {
      "cell_type": "markdown",
      "metadata": {
        "id": "ed6Ih02kjtRY",
        "colab_type": "text"
      },
      "source": [
        "## Function 1 - torch.random()\n",
        "\n",
        "Returns a tensor filled with random numbers from a uniform distribution on the interval [0, 1)\n",
        "\n"
      ]
    },
    {
      "cell_type": "code",
      "metadata": {
        "id": "Akw4FjC_jtRb",
        "colab_type": "code",
        "outputId": "8a724221-fdfe-4b70-e1cb-07e53a57b534",
        "colab": {
          "base_uri": "https://localhost:8080/",
          "height": 68
        }
      },
      "source": [
        "# creating an tensor Matrix 3x3 using a random numbers from a normal distribution\n",
        "t1 = torch.randn(3, 3)\n",
        "t1"
      ],
      "execution_count": 0,
      "outputs": [
        {
          "output_type": "execute_result",
          "data": {
            "text/plain": [
              "tensor([[-0.2895, -0.5728,  0.4338],\n",
              "        [ 0.3157, -0.3295,  0.2898],\n",
              "        [-0.0751, -0.1587,  0.0605]])"
            ]
          },
          "metadata": {
            "tags": []
          },
          "execution_count": 23
        }
      ]
    },
    {
      "cell_type": "markdown",
      "metadata": {
        "id": "-RuuEsTJjtRo",
        "colab_type": "text"
      },
      "source": [
        "Created a tensor of dimension 2x2 (matrix)"
      ]
    },
    {
      "cell_type": "code",
      "metadata": {
        "id": "p2OAtyx2jtRs",
        "colab_type": "code",
        "outputId": "882bea4e-cfc4-4f12-986f-696dac514e0e",
        "colab": {
          "base_uri": "https://localhost:8080/",
          "height": 136
        }
      },
      "source": [
        "# creating an tensor 3-D Matrix 2x3x2 using a random numbers from a normal distribution\n",
        "t1_2 = torch.randn(2,3, 2)\n",
        "t1_2"
      ],
      "execution_count": 0,
      "outputs": [
        {
          "output_type": "execute_result",
          "data": {
            "text/plain": [
              "tensor([[[-0.5084, -0.4123],\n",
              "         [ 0.8298, -0.3162],\n",
              "         [ 0.4710, -0.2236]],\n",
              "\n",
              "        [[-1.9246,  1.1891],\n",
              "         [ 1.9553, -0.8070],\n",
              "         [-1.1956,  0.6041]]])"
            ]
          },
          "metadata": {
            "tags": []
          },
          "execution_count": 16
        }
      ]
    },
    {
      "cell_type": "markdown",
      "metadata": {
        "id": "SC4d2akGjtR3",
        "colab_type": "text"
      },
      "source": [
        "Created a tensor of 3 dimensions filled with random values"
      ]
    },
    {
      "cell_type": "code",
      "metadata": {
        "id": "k9rkLqWajtR9",
        "colab_type": "code",
        "outputId": "08de934b-2008-4679-d06f-e9eb93c787d5",
        "colab": {
          "base_uri": "https://localhost:8080/",
          "height": 180
        }
      },
      "source": [
        "# Example 3 - breaking (by using a non existent data type \"torch.string\")\n",
        "t1_3 = torch.randn(2, 3, 2, dtype=torch.string, requires_grad=True )"
      ],
      "execution_count": 0,
      "outputs": [
        {
          "output_type": "error",
          "ename": "AttributeError",
          "evalue": "ignored",
          "traceback": [
            "\u001b[0;31m---------------------------------------------------------------------------\u001b[0m",
            "\u001b[0;31mAttributeError\u001b[0m                            Traceback (most recent call last)",
            "\u001b[0;32m<ipython-input-20-95f8d84a8b52>\u001b[0m in \u001b[0;36m<module>\u001b[0;34m()\u001b[0m\n\u001b[1;32m      1\u001b[0m \u001b[0;31m# Example 3 - breaking (to illustrate when it breaks)\u001b[0m\u001b[0;34m\u001b[0m\u001b[0;34m\u001b[0m\u001b[0;34m\u001b[0m\u001b[0m\n\u001b[0;32m----> 2\u001b[0;31m \u001b[0mt1_3\u001b[0m \u001b[0;34m=\u001b[0m \u001b[0mtorch\u001b[0m\u001b[0;34m.\u001b[0m\u001b[0mrandn\u001b[0m\u001b[0;34m(\u001b[0m\u001b[0;36m2\u001b[0m\u001b[0;34m,\u001b[0m \u001b[0;36m3\u001b[0m\u001b[0;34m,\u001b[0m \u001b[0;36m2\u001b[0m\u001b[0;34m,\u001b[0m \u001b[0mdtype\u001b[0m\u001b[0;34m=\u001b[0m\u001b[0mtorch\u001b[0m\u001b[0;34m.\u001b[0m\u001b[0mstring\u001b[0m\u001b[0;34m,\u001b[0m \u001b[0mrequires_grad\u001b[0m\u001b[0;34m=\u001b[0m\u001b[0;32mTrue\u001b[0m \u001b[0;34m)\u001b[0m\u001b[0;34m\u001b[0m\u001b[0;34m\u001b[0m\u001b[0m\n\u001b[0m",
            "\u001b[0;31mAttributeError\u001b[0m: module 'torch' has no attribute 'string'"
          ]
        }
      ]
    },
    {
      "cell_type": "markdown",
      "metadata": {
        "id": "pGpLYuBzjtSG",
        "colab_type": "text"
      },
      "source": [
        "Tried to initialize an tensor with random valus of torch type string, which obviously does not exists and therefore an attributeError is raised informing about the situation."
      ]
    },
    {
      "cell_type": "markdown",
      "metadata": {
        "id": "--K2BuR0jtSI",
        "colab_type": "text"
      },
      "source": [
        "This function may be very useful when creating new tensor from scracth, for example as seen during the first lesson, for initializing the weights or the biases tensors."
      ]
    },
    {
      "cell_type": "markdown",
      "metadata": {
        "id": "8dL739TjjtSL",
        "colab_type": "text"
      },
      "source": [
        "## Function 2 - torch.eig()\n",
        "\n",
        "Computes both eigenvectors and eigenvalues of the given tensor matrix. The given matrix shall be squared."
      ]
    },
    {
      "cell_type": "code",
      "metadata": {
        "id": "XRmBmsA_jtSO",
        "colab_type": "code",
        "outputId": "e958979d-133a-4ef1-c4d9-0573da10ee80",
        "colab": {
          "base_uri": "https://localhost:8080/",
          "height": 34
        }
      },
      "source": [
        "# Example 1 - obtained eigenvalues and vector of the matrix obtained in previous section\n",
        "t2 = torch.tensor([[1., 1, 0],\n",
        "                   [1, 0, 1],\n",
        "                   [0, 1, 1]])\n",
        "t2.dtype"
      ],
      "execution_count": 0,
      "outputs": [
        {
          "output_type": "execute_result",
          "data": {
            "text/plain": [
              "torch.float32"
            ]
          },
          "metadata": {
            "tags": []
          },
          "execution_count": 37
        }
      ]
    },
    {
      "cell_type": "markdown",
      "metadata": {
        "id": "LJU-5KdSjtSi",
        "colab_type": "text"
      },
      "source": [
        "Once obtained, the eigenvalues are accesible by using .eigenvalues"
      ]
    },
    {
      "cell_type": "code",
      "metadata": {
        "id": "bAJExlPcjtSl",
        "colab_type": "code",
        "outputId": "928aff59-8522-4eca-d7e9-57c701ac3721",
        "colab": {
          "base_uri": "https://localhost:8080/",
          "height": 119
        }
      },
      "source": [
        "# Example 2 - working\n",
        "t2 = torch.eig(t2, True)\n",
        "print(t2.eigenvalues)\n",
        "print(t2.eigenvectors)"
      ],
      "execution_count": 0,
      "outputs": [
        {
          "output_type": "stream",
          "text": [
            "tensor([[-1.0000,  0.0000],\n",
            "        [ 1.0000,  0.0000],\n",
            "        [ 2.0000,  0.0000]])\n",
            "tensor([[ 4.0825e-01,  7.0711e-01,  5.7735e-01],\n",
            "        [-8.1650e-01,  8.1591e-08,  5.7735e-01],\n",
            "        [ 4.0825e-01, -7.0711e-01,  5.7735e-01]])\n"
          ],
          "name": "stdout"
        }
      ]
    },
    {
      "cell_type": "markdown",
      "metadata": {
        "id": "AAZtyf-UjtS0",
        "colab_type": "text"
      },
      "source": [
        ""
      ]
    },
    {
      "cell_type": "code",
      "metadata": {
        "id": "W6xo0fFojtS5",
        "colab_type": "code",
        "outputId": "c39ae5dc-e278-4222-e1d3-0a03a8db95ce",
        "colab": {
          "base_uri": "https://localhost:8080/",
          "height": 214
        }
      },
      "source": [
        "# Example 3 - breaking (to illustrate when it breaks)\n",
        "t2_vectors_t = torch.t(t2.eigenvectors)\n",
        "tensor_out = t2.eigenvectors @ t2.eigenvalues @ t2_vectors_t\n",
        "tensor_out"
      ],
      "execution_count": 0,
      "outputs": [
        {
          "output_type": "error",
          "ename": "RuntimeError",
          "evalue": "ignored",
          "traceback": [
            "\u001b[0;31m---------------------------------------------------------------------------\u001b[0m",
            "\u001b[0;31mRuntimeError\u001b[0m                              Traceback (most recent call last)",
            "\u001b[0;32m<ipython-input-29-ccb4fba10440>\u001b[0m in \u001b[0;36m<module>\u001b[0;34m()\u001b[0m\n\u001b[1;32m      1\u001b[0m \u001b[0;31m# Example 3 - breaking (to illustrate when it breaks)\u001b[0m\u001b[0;34m\u001b[0m\u001b[0;34m\u001b[0m\u001b[0;34m\u001b[0m\u001b[0m\n\u001b[1;32m      2\u001b[0m \u001b[0mt2_vectors_t\u001b[0m \u001b[0;34m=\u001b[0m \u001b[0mtorch\u001b[0m\u001b[0;34m.\u001b[0m\u001b[0mt\u001b[0m\u001b[0;34m(\u001b[0m\u001b[0mt2\u001b[0m\u001b[0;34m.\u001b[0m\u001b[0meigenvectors\u001b[0m\u001b[0;34m)\u001b[0m\u001b[0;34m\u001b[0m\u001b[0;34m\u001b[0m\u001b[0m\n\u001b[0;32m----> 3\u001b[0;31m \u001b[0mtensor_out\u001b[0m \u001b[0;34m=\u001b[0m \u001b[0mt2\u001b[0m\u001b[0;34m.\u001b[0m\u001b[0meigenvectors\u001b[0m \u001b[0;34m@\u001b[0m \u001b[0mt2\u001b[0m\u001b[0;34m.\u001b[0m\u001b[0meigenvalues\u001b[0m \u001b[0;34m@\u001b[0m \u001b[0mt2_vectors_t\u001b[0m\u001b[0;34m\u001b[0m\u001b[0;34m\u001b[0m\u001b[0m\n\u001b[0m\u001b[1;32m      4\u001b[0m \u001b[0mtensor_out\u001b[0m\u001b[0;34m\u001b[0m\u001b[0;34m\u001b[0m\u001b[0m\n",
            "\u001b[0;31mRuntimeError\u001b[0m: size mismatch, m1: [3 x 2], m2: [3 x 3] at /pytorch/aten/src/TH/generic/THTensorMath.cpp:41"
          ]
        }
      ]
    },
    {
      "cell_type": "markdown",
      "metadata": {
        "id": "_tBVFHDXjtTB",
        "colab_type": "text"
      },
      "source": [
        "Explanation about example"
      ]
    },
    {
      "cell_type": "markdown",
      "metadata": {
        "id": "b7C6_Ou-jtTD",
        "colab_type": "text"
      },
      "source": [
        "Closing comments about when to use this function"
      ]
    },
    {
      "cell_type": "markdown",
      "metadata": {
        "id": "T6GqRS_XjtTG",
        "colab_type": "text"
      },
      "source": [
        "## Function 3 - ???\n",
        "\n",
        "Add some explanations"
      ]
    },
    {
      "cell_type": "code",
      "metadata": {
        "id": "04924h2ljtTH",
        "colab_type": "code",
        "colab": {}
      },
      "source": [
        "# Example 1 - working"
      ],
      "execution_count": 0,
      "outputs": []
    },
    {
      "cell_type": "markdown",
      "metadata": {
        "id": "PIrnsZV7jtTS",
        "colab_type": "text"
      },
      "source": [
        "Explanation about example"
      ]
    },
    {
      "cell_type": "code",
      "metadata": {
        "id": "T5n76M-8jtTX",
        "colab_type": "code",
        "colab": {}
      },
      "source": [
        "# Example 2 - working"
      ],
      "execution_count": 0,
      "outputs": []
    },
    {
      "cell_type": "markdown",
      "metadata": {
        "id": "VeeOM958jtTl",
        "colab_type": "text"
      },
      "source": [
        "Explanation about example"
      ]
    },
    {
      "cell_type": "code",
      "metadata": {
        "id": "bKacT1a_jtTm",
        "colab_type": "code",
        "colab": {}
      },
      "source": [
        "# Example 3 - breaking (to illustrate when it breaks)"
      ],
      "execution_count": 0,
      "outputs": []
    },
    {
      "cell_type": "markdown",
      "metadata": {
        "id": "V5R1kjnMjtTw",
        "colab_type": "text"
      },
      "source": [
        "Explanation about example"
      ]
    },
    {
      "cell_type": "markdown",
      "metadata": {
        "id": "7LuSkvaLjtTx",
        "colab_type": "text"
      },
      "source": [
        "Closing comments about when to use this function"
      ]
    },
    {
      "cell_type": "markdown",
      "metadata": {
        "id": "TL1e5DxvjtTz",
        "colab_type": "text"
      },
      "source": [
        "## Function 4 - ???\n",
        "\n",
        "Add some explanations"
      ]
    },
    {
      "cell_type": "code",
      "metadata": {
        "id": "Vrf2c2uRjtT1",
        "colab_type": "code",
        "colab": {}
      },
      "source": [
        "# Example 1 - working"
      ],
      "execution_count": 0,
      "outputs": []
    },
    {
      "cell_type": "markdown",
      "metadata": {
        "id": "4VTF7IqojtT8",
        "colab_type": "text"
      },
      "source": [
        "Explanation about example"
      ]
    },
    {
      "cell_type": "code",
      "metadata": {
        "id": "NTCOlDXTjtT-",
        "colab_type": "code",
        "colab": {}
      },
      "source": [
        "# Example 2 - working"
      ],
      "execution_count": 0,
      "outputs": []
    },
    {
      "cell_type": "markdown",
      "metadata": {
        "id": "vzW_BcezjtUO",
        "colab_type": "text"
      },
      "source": [
        "Explanation about example"
      ]
    },
    {
      "cell_type": "code",
      "metadata": {
        "id": "U2Xev3KljtUQ",
        "colab_type": "code",
        "colab": {}
      },
      "source": [
        "# Example 3 - breaking (to illustrate when it breaks)"
      ],
      "execution_count": 0,
      "outputs": []
    },
    {
      "cell_type": "markdown",
      "metadata": {
        "id": "sj-jCQtqjtUa",
        "colab_type": "text"
      },
      "source": [
        "Explanation about example"
      ]
    },
    {
      "cell_type": "markdown",
      "metadata": {
        "id": "ZLztK7k_jtUc",
        "colab_type": "text"
      },
      "source": [
        "Closing comments about when to use this function"
      ]
    },
    {
      "cell_type": "markdown",
      "metadata": {
        "id": "VjeJNwZbjtUd",
        "colab_type": "text"
      },
      "source": [
        "## Function 5 - ???\n",
        "\n",
        "Add some explanations"
      ]
    },
    {
      "cell_type": "code",
      "metadata": {
        "id": "r3Ct4jOmjtUf",
        "colab_type": "code",
        "colab": {}
      },
      "source": [
        "# Example 1 - working"
      ],
      "execution_count": 0,
      "outputs": []
    },
    {
      "cell_type": "markdown",
      "metadata": {
        "id": "bwpSEZs9jtUz",
        "colab_type": "text"
      },
      "source": [
        "Explanation about example"
      ]
    },
    {
      "cell_type": "code",
      "metadata": {
        "id": "f4ZpNfrOjtU0",
        "colab_type": "code",
        "colab": {}
      },
      "source": [
        "# Example 2 - working"
      ],
      "execution_count": 0,
      "outputs": []
    },
    {
      "cell_type": "markdown",
      "metadata": {
        "id": "zYCyZqLXjtU7",
        "colab_type": "text"
      },
      "source": [
        "Explanation about example"
      ]
    },
    {
      "cell_type": "code",
      "metadata": {
        "id": "G5UXKr_tjtU8",
        "colab_type": "code",
        "colab": {}
      },
      "source": [
        "# Example 3 - breaking (to illustrate when it breaks)"
      ],
      "execution_count": 0,
      "outputs": []
    },
    {
      "cell_type": "markdown",
      "metadata": {
        "id": "ZtCg61h6jtVF",
        "colab_type": "text"
      },
      "source": [
        "Explanation about example"
      ]
    },
    {
      "cell_type": "markdown",
      "metadata": {
        "id": "wgBirqjVjtVH",
        "colab_type": "text"
      },
      "source": [
        "Closing comments about when to use this function"
      ]
    },
    {
      "cell_type": "markdown",
      "metadata": {
        "id": "B21vIH0GjtVI",
        "colab_type": "text"
      },
      "source": [
        "## Conclusion\n",
        "\n",
        "Summarize what was covered in this notebook, and where to go next"
      ]
    },
    {
      "cell_type": "markdown",
      "metadata": {
        "id": "-HVcHDkSjtVJ",
        "colab_type": "text"
      },
      "source": [
        "## Reference Links\n",
        "Provide links to your references and other interesting articles about tensors\n",
        "* Official documentation for `torch.Tensor`: https://pytorch.org/docs/stable/tensors.html\n",
        "* ..."
      ]
    },
    {
      "cell_type": "code",
      "metadata": {
        "id": "llTHVKX6jtVM",
        "colab_type": "code",
        "outputId": "6afd4f95-ec5d-453d-f311-b4f9262d066b",
        "colab": {
          "base_uri": "https://localhost:8080/",
          "height": 51
        }
      },
      "source": [
        "!pip install jovian --upgrade --quiet"
      ],
      "execution_count": 0,
      "outputs": [
        {
          "output_type": "stream",
          "text": [
            "\u001b[?25l\r\u001b[K     |████                            | 10kB 23.9MB/s eta 0:00:01\r\u001b[K     |███████▉                        | 20kB 1.8MB/s eta 0:00:01\r\u001b[K     |███████████▉                    | 30kB 2.4MB/s eta 0:00:01\r\u001b[K     |███████████████▊                | 40kB 2.6MB/s eta 0:00:01\r\u001b[K     |███████████████████▋            | 51kB 2.1MB/s eta 0:00:01\r\u001b[K     |███████████████████████▋        | 61kB 2.4MB/s eta 0:00:01\r\u001b[K     |███████████████████████████▌    | 71kB 2.6MB/s eta 0:00:01\r\u001b[K     |███████████████████████████████▍| 81kB 2.8MB/s eta 0:00:01\r\u001b[K     |████████████████████████████████| 92kB 2.5MB/s \n",
            "\u001b[?25h  Building wheel for uuid (setup.py) ... \u001b[?25l\u001b[?25hdone\n"
          ],
          "name": "stdout"
        }
      ]
    },
    {
      "cell_type": "code",
      "metadata": {
        "id": "xNE-z-YjjtVY",
        "colab_type": "code",
        "colab": {}
      },
      "source": [
        "import jovian"
      ],
      "execution_count": 0,
      "outputs": []
    },
    {
      "cell_type": "code",
      "metadata": {
        "id": "EMZxdKlOjtVh",
        "colab_type": "code",
        "outputId": "58722a49-88e2-4f47-cb95-790e373a9cc5",
        "colab": {
          "base_uri": "https://localhost:8080/",
          "height": 34
        }
      },
      "source": [
        "jovian.commit()"
      ],
      "execution_count": 0,
      "outputs": [
        {
          "output_type": "stream",
          "text": [
            "\u001b[31m[jovian] Error: Failed to detect Jupyter notebook or Python script. Skipping..\u001b[0m\n"
          ],
          "name": "stderr"
        }
      ]
    },
    {
      "cell_type": "code",
      "metadata": {
        "id": "YtNIcCB_jtVu",
        "colab_type": "code",
        "colab": {}
      },
      "source": [
        ""
      ],
      "execution_count": 0,
      "outputs": []
    }
  ]
}