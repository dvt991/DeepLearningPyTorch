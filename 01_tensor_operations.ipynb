{
  "nbformat": 4,
  "nbformat_minor": 0,
  "metadata": {
    "kernelspec": {
      "display_name": "Python 3",
      "language": "python",
      "name": "python3"
    },
    "language_info": {
      "codemirror_mode": {
        "name": "ipython",
        "version": 3
      },
      "file_extension": ".py",
      "mimetype": "text/x-python",
      "name": "python",
      "nbconvert_exporter": "python",
      "pygments_lexer": "ipython3",
      "version": "3.7.6"
    },
    "colab": {
      "name": "01-tensor-operations.ipynb",
      "provenance": [],
      "include_colab_link": true
    }
  },
  "cells": [
    {
      "cell_type": "markdown",
      "metadata": {
        "id": "view-in-github",
        "colab_type": "text"
      },
      "source": [
        "<a href=\"https://colab.research.google.com/github/dvt991/DeepLearningPyTorch/blob/master/01_tensor_operations.ipynb\" target=\"_parent\"><img src=\"https://colab.research.google.com/assets/colab-badge.svg\" alt=\"Open In Colab\"/></a>"
      ]
    },
    {
      "cell_type": "markdown",
      "metadata": {
        "id": "F93ou4XyJpMD",
        "colab_type": "text"
      },
      "source": [
        "Daniel Velasco Torre"
      ]
    },
    {
      "cell_type": "markdown",
      "metadata": {
        "id": "kt-vWJoGjtRI",
        "colab_type": "text"
      },
      "source": [
        "# PyTorch Tensors\n",
        "\n",
        "### Main discovered functions\n",
        "Pytorch tensors are the main object to be used when programming using Pytorch library, they implement any scalar, vector, matrix (2D & 3D) as well as a set of functions which makes the life easier when operating them.\n",
        "One of the main benefits of using Pytorch is ts ability for calculating gradients (parcial derivates) of the tensors. Which may be used for minimizing the error of a model using the gradient descent method.\n",
        "\n",
        "After a review of the tensor documentation, find below my selected functions.  \n",
        "- randn(): fills the tensor with random values\n",
        "- view(): resizes the given tensor into  new one\n",
        "- grad(): returns the gradient calculated by autograd\n",
        "- select(): slices the tensor along the selected dimension at the given index\n",
        "- where(): returns a tensor with the values that met the conditon"
      ]
    },
    {
      "cell_type": "code",
      "metadata": {
        "id": "zEtmqwsIjtRK",
        "colab_type": "code",
        "colab": {}
      },
      "source": [
        "# Import torch and other required modules\n",
        "import torch"
      ],
      "execution_count": 0,
      "outputs": []
    },
    {
      "cell_type": "markdown",
      "metadata": {
        "id": "ed6Ih02kjtRY",
        "colab_type": "text"
      },
      "source": [
        "## Function 1 - random()\n",
        "\n",
        "Returns a tensor filled with random numbers from a normal distribution with mean 0 and variance 1.\n",
        "\n"
      ]
    },
    {
      "cell_type": "code",
      "metadata": {
        "id": "Akw4FjC_jtRb",
        "colab_type": "code",
        "outputId": "a03d4210-0006-462a-cddc-aafbd4a81963",
        "colab": {
          "base_uri": "https://localhost:8080/",
          "height": 68
        }
      },
      "source": [
        "# creating an tensor Matrix 3x3 using a random numbers from a normal distribution\n",
        "t1 = torch.randn(3, 3)\n",
        "t1"
      ],
      "execution_count": 2,
      "outputs": [
        {
          "output_type": "execute_result",
          "data": {
            "text/plain": [
              "tensor([[ 0.3195,  1.5224,  1.3008],\n",
              "        [ 0.9722,  0.9984,  1.0700],\n",
              "        [ 0.6215, -0.2685,  0.4946]])"
            ]
          },
          "metadata": {
            "tags": []
          },
          "execution_count": 2
        }
      ]
    },
    {
      "cell_type": "markdown",
      "metadata": {
        "id": "-RuuEsTJjtRo",
        "colab_type": "text"
      },
      "source": [
        "Created a tensor of dimension 2x2 (matrix)"
      ]
    },
    {
      "cell_type": "code",
      "metadata": {
        "id": "p2OAtyx2jtRs",
        "colab_type": "code",
        "outputId": "fe164a09-c647-4860-846b-fb4cdb1ff7c0",
        "colab": {
          "base_uri": "https://localhost:8080/",
          "height": 136
        }
      },
      "source": [
        "# creating an tensor 3-D Matrix 2x3x2 using a random numbers from a normal distribution\n",
        "t1_2 = torch.randn(2,3, 2)\n",
        "t1_2"
      ],
      "execution_count": 3,
      "outputs": [
        {
          "output_type": "execute_result",
          "data": {
            "text/plain": [
              "tensor([[[ 1.5359,  0.9600],\n",
              "         [ 0.2890,  1.5561],\n",
              "         [-1.9615, -0.1194]],\n",
              "\n",
              "        [[-0.9531,  2.2391],\n",
              "         [ 1.1436,  0.2132],\n",
              "         [ 0.7284, -1.4723]]])"
            ]
          },
          "metadata": {
            "tags": []
          },
          "execution_count": 3
        }
      ]
    },
    {
      "cell_type": "markdown",
      "metadata": {
        "id": "SC4d2akGjtR3",
        "colab_type": "text"
      },
      "source": [
        "Created a tensor of 3 dimensions filled with random values"
      ]
    },
    {
      "cell_type": "code",
      "metadata": {
        "id": "k9rkLqWajtR9",
        "colab_type": "code",
        "outputId": "08de934b-2008-4679-d06f-e9eb93c787d5",
        "colab": {
          "base_uri": "https://localhost:8080/",
          "height": 180
        }
      },
      "source": [
        "# Example 3 - breaking (by using a non existent data type \"torch.string\")\n",
        "t1_3 = torch.randn(2, 3, 2, dtype=torch.string, requires_grad=True )"
      ],
      "execution_count": 0,
      "outputs": [
        {
          "output_type": "error",
          "ename": "AttributeError",
          "evalue": "ignored",
          "traceback": [
            "\u001b[0;31m---------------------------------------------------------------------------\u001b[0m",
            "\u001b[0;31mAttributeError\u001b[0m                            Traceback (most recent call last)",
            "\u001b[0;32m<ipython-input-20-95f8d84a8b52>\u001b[0m in \u001b[0;36m<module>\u001b[0;34m()\u001b[0m\n\u001b[1;32m      1\u001b[0m \u001b[0;31m# Example 3 - breaking (to illustrate when it breaks)\u001b[0m\u001b[0;34m\u001b[0m\u001b[0;34m\u001b[0m\u001b[0;34m\u001b[0m\u001b[0m\n\u001b[0;32m----> 2\u001b[0;31m \u001b[0mt1_3\u001b[0m \u001b[0;34m=\u001b[0m \u001b[0mtorch\u001b[0m\u001b[0;34m.\u001b[0m\u001b[0mrandn\u001b[0m\u001b[0;34m(\u001b[0m\u001b[0;36m2\u001b[0m\u001b[0;34m,\u001b[0m \u001b[0;36m3\u001b[0m\u001b[0;34m,\u001b[0m \u001b[0;36m2\u001b[0m\u001b[0;34m,\u001b[0m \u001b[0mdtype\u001b[0m\u001b[0;34m=\u001b[0m\u001b[0mtorch\u001b[0m\u001b[0;34m.\u001b[0m\u001b[0mstring\u001b[0m\u001b[0;34m,\u001b[0m \u001b[0mrequires_grad\u001b[0m\u001b[0;34m=\u001b[0m\u001b[0;32mTrue\u001b[0m \u001b[0;34m)\u001b[0m\u001b[0;34m\u001b[0m\u001b[0;34m\u001b[0m\u001b[0m\n\u001b[0m",
            "\u001b[0;31mAttributeError\u001b[0m: module 'torch' has no attribute 'string'"
          ]
        }
      ]
    },
    {
      "cell_type": "markdown",
      "metadata": {
        "id": "pGpLYuBzjtSG",
        "colab_type": "text"
      },
      "source": [
        "Tried to initialize an tensor with random valus of torch type string, which obviously does not exists and therefore an attributeError is raised informing about the situation."
      ]
    },
    {
      "cell_type": "markdown",
      "metadata": {
        "id": "--K2BuR0jtSI",
        "colab_type": "text"
      },
      "source": [
        "This function may be very useful when creating new tensor from scracth, for example as seen during the first lesson, for initializing the weights or the biases tensors.\n",
        "\n",
        "\n",
        "---\n",
        "\n",
        "\n",
        "\n",
        "---\n",
        "\n"
      ]
    },
    {
      "cell_type": "markdown",
      "metadata": {
        "id": "8dL739TjjtSL",
        "colab_type": "text"
      },
      "source": [
        "## Function 2 - view()\n",
        "\n",
        "Returns a new tensor with the same data as the <code>self</code> tensor but of a different <code>shape</code>"
      ]
    },
    {
      "cell_type": "code",
      "metadata": {
        "id": "XRmBmsA_jtSO",
        "colab_type": "code",
        "outputId": "aebae977-e0be-4e4e-de33-ec1b9f6a353d",
        "colab": {
          "base_uri": "https://localhost:8080/",
          "height": 51
        }
      },
      "source": [
        "# Example 1 - created an example of a 2x2 tensor and resize it to a single dimension\n",
        "t2 = torch.randn(2,2)\n",
        "print(t2.size())\n",
        "t2_resized = t2.view(4)\n",
        "t2_resized"
      ],
      "execution_count": 7,
      "outputs": [
        {
          "output_type": "stream",
          "text": [
            "torch.Size([2, 2])\n"
          ],
          "name": "stdout"
        },
        {
          "output_type": "execute_result",
          "data": {
            "text/plain": [
              "tensor([-1.8875, -0.4700,  0.1409,  1.1345])"
            ]
          },
          "metadata": {
            "tags": []
          },
          "execution_count": 7
        }
      ]
    },
    {
      "cell_type": "code",
      "metadata": {
        "id": "bAJExlPcjtSl",
        "colab_type": "code",
        "outputId": "f25b2d52-3940-43e4-e4c1-96f3753b0d13",
        "colab": {
          "base_uri": "https://localhost:8080/",
          "height": 221
        }
      },
      "source": [
        "# Example 2 - created a 3-dimensional tensor with 2 3x3 matrices and resize it to 2 vectors of X length\n",
        "# where the length in indicated as to be calculated by pytorch by using -1\n",
        "t2_1 = torch.rand(2,3,3)\n",
        "print(t2_1)\n",
        "t2_1_resized = t2_1.view(2, 1 , -1)\n",
        "print(t2_1_resized)"
      ],
      "execution_count": 14,
      "outputs": [
        {
          "output_type": "stream",
          "text": [
            "tensor([[[0.0694, 0.8559, 0.8598],\n",
            "         [0.6338, 0.6708, 0.1369],\n",
            "         [0.4764, 0.0014, 0.5037]],\n",
            "\n",
            "        [[0.3369, 0.2449, 0.8158],\n",
            "         [0.8555, 0.5010, 0.7545],\n",
            "         [0.2088, 0.5222, 0.7234]]])\n",
            "tensor([[[0.0694, 0.8559, 0.8598, 0.6338, 0.6708, 0.1369, 0.4764, 0.0014,\n",
            "          0.5037]],\n",
            "\n",
            "        [[0.3369, 0.2449, 0.8158, 0.8555, 0.5010, 0.7545, 0.2088, 0.5222,\n",
            "          0.7234]]])\n"
          ],
          "name": "stdout"
        }
      ]
    },
    {
      "cell_type": "markdown",
      "metadata": {
        "id": "AAZtyf-UjtS0",
        "colab_type": "text"
      },
      "source": [
        "The view method shown above shall be very useful for managing the dimension resizing between NN layers."
      ]
    },
    {
      "cell_type": "code",
      "metadata": {
        "id": "W6xo0fFojtS5",
        "colab_type": "code",
        "outputId": "3af475b4-5939-43b0-b586-d7f309c3c097",
        "colab": {
          "base_uri": "https://localhost:8080/",
          "height": 299
        }
      },
      "source": [
        "# Example 3 - another example where is shown how the function resturns an error if the dimension\n",
        "#does not meet the requirements\n",
        "t2_2 = torch.randn(2,2,2)\n",
        "print(t2_2)\n",
        "t2_2_resized = t2_2.view(1, 3, -1)\n",
        "print(t2_2_resized)"
      ],
      "execution_count": 18,
      "outputs": [
        {
          "output_type": "stream",
          "text": [
            "tensor([[[-0.3005, -0.7203],\n",
            "         [-1.2149,  0.7053]],\n",
            "\n",
            "        [[ 0.6251, -1.1613],\n",
            "         [-0.0663, -0.9618]]])\n"
          ],
          "name": "stdout"
        },
        {
          "output_type": "error",
          "ename": "RuntimeError",
          "evalue": "ignored",
          "traceback": [
            "\u001b[0;31m---------------------------------------------------------------------------\u001b[0m",
            "\u001b[0;31mRuntimeError\u001b[0m                              Traceback (most recent call last)",
            "\u001b[0;32m<ipython-input-18-336cdda46725>\u001b[0m in \u001b[0;36m<module>\u001b[0;34m()\u001b[0m\n\u001b[1;32m      3\u001b[0m \u001b[0mt2_2\u001b[0m \u001b[0;34m=\u001b[0m \u001b[0mtorch\u001b[0m\u001b[0;34m.\u001b[0m\u001b[0mrandn\u001b[0m\u001b[0;34m(\u001b[0m\u001b[0;36m2\u001b[0m\u001b[0;34m,\u001b[0m\u001b[0;36m2\u001b[0m\u001b[0;34m,\u001b[0m\u001b[0;36m2\u001b[0m\u001b[0;34m)\u001b[0m\u001b[0;34m\u001b[0m\u001b[0;34m\u001b[0m\u001b[0m\n\u001b[1;32m      4\u001b[0m \u001b[0mprint\u001b[0m\u001b[0;34m(\u001b[0m\u001b[0mt2_2\u001b[0m\u001b[0;34m)\u001b[0m\u001b[0;34m\u001b[0m\u001b[0;34m\u001b[0m\u001b[0m\n\u001b[0;32m----> 5\u001b[0;31m \u001b[0mt2_2_resized\u001b[0m \u001b[0;34m=\u001b[0m \u001b[0mt2_2\u001b[0m\u001b[0;34m.\u001b[0m\u001b[0mview\u001b[0m\u001b[0;34m(\u001b[0m\u001b[0;36m1\u001b[0m\u001b[0;34m,\u001b[0m \u001b[0;36m3\u001b[0m\u001b[0;34m,\u001b[0m \u001b[0;34m-\u001b[0m\u001b[0;36m1\u001b[0m\u001b[0;34m)\u001b[0m\u001b[0;34m\u001b[0m\u001b[0;34m\u001b[0m\u001b[0m\n\u001b[0m\u001b[1;32m      6\u001b[0m \u001b[0mprint\u001b[0m\u001b[0;34m(\u001b[0m\u001b[0mt2_2_resized\u001b[0m\u001b[0;34m)\u001b[0m\u001b[0;34m\u001b[0m\u001b[0;34m\u001b[0m\u001b[0m\n",
            "\u001b[0;31mRuntimeError\u001b[0m: shape '[1, 3, -1]' is invalid for input of size 8"
          ]
        }
      ]
    },
    {
      "cell_type": "markdown",
      "metadata": {
        "id": "b7C6_Ou-jtTD",
        "colab_type": "text"
      },
      "source": [
        "The previous example returns an error because our input is a 3-Dimensional tensor containing 2x2x2=8 elements. When resized, we are giving as arguments the first dimension and second simension in which it shall be reshaped (1x3x**n**).   \n",
        "And it can be easily seen, that there is no number **n**, which meet that 1x3x**n**=8\n",
        "When used properly, view is a must-known method among the tensor library.\n",
        "\n",
        "\n",
        "\n",
        "---\n",
        "\n",
        "\n",
        "\n",
        "---\n",
        "\n",
        "\n",
        "\n"
      ]
    },
    {
      "cell_type": "markdown",
      "metadata": {
        "id": "T6GqRS_XjtTG",
        "colab_type": "text"
      },
      "source": [
        "## Function 3 - grad()\n",
        "\n",
        "Method which returns the stored value f the calculation made over a tensor by the automatic differentiation system of pytorch (autograd). The values are being added until they are manually cleaned. It may be used together with requires_grad() which sets the autograf on and off to a specific tensor.\n"
      ]
    },
    {
      "cell_type": "code",
      "metadata": {
        "id": "04924h2ljtTH",
        "colab_type": "code",
        "colab": {
          "base_uri": "https://localhost:8080/",
          "height": 136
        },
        "outputId": "cbc68355-7e65-4602-8fb7-21c32adb5e9c"
      },
      "source": [
        "# Example 1 - First tensor requirining autograd without backward propagation\n",
        "torch_ag = torch.randn(3,2, requires_grad=True)\n",
        "print(torch_ag)\n",
        "out_ag = torch_ag *3\n",
        "print(out_ag)\n",
        "print(torch_ag.grad)\n"
      ],
      "execution_count": 23,
      "outputs": [
        {
          "output_type": "stream",
          "text": [
            "tensor([[-2.2276,  0.3772],\n",
            "        [ 1.6913,  1.8568],\n",
            "        [-0.8133,  0.3853]], requires_grad=True)\n",
            "tensor([[-6.6828,  1.1316],\n",
            "        [ 5.0740,  5.5705],\n",
            "        [-2.4400,  1.1558]], grad_fn=<MulBackward0>)\n",
            "None\n"
          ],
          "name": "stdout"
        }
      ]
    },
    {
      "cell_type": "markdown",
      "metadata": {
        "id": "PIrnsZV7jtTS",
        "colab_type": "text"
      },
      "source": [
        "In the example above a random 3x2 tensor is created from which autograd will be recording all its operations from the moment is created.\n",
        "Then it is multiplied by a scalar 2.\n",
        "But when the gradient is then requested None is obtained, this is because the backpropagatton has not been carried out."
      ]
    },
    {
      "cell_type": "code",
      "metadata": {
        "id": "T5n76M-8jtTX",
        "colab_type": "code",
        "colab": {
          "base_uri": "https://localhost:8080/",
          "height": 136
        },
        "outputId": "147827c8-9376-4609-b85c-0bd0cf761275"
      },
      "source": [
        "# Example 2 - Grad used together with backwards\n",
        "torch_ag_2 = torch.randn(3,3, requires_grad=True)\n",
        "print(torch_ag_2)\n",
        "out_ag = torch_ag.pow(2).sum()\n",
        "print(out_ag)\n",
        "out_ag.backward()\n",
        "print(torch_ag.grad)"
      ],
      "execution_count": 25,
      "outputs": [
        {
          "output_type": "stream",
          "text": [
            "tensor([[ 0.3211, -0.4570,  1.2109],\n",
            "        [ 0.7785,  0.2847, -0.1551],\n",
            "        [ 0.3697,  0.4899,  1.3948]], requires_grad=True)\n",
            "tensor(12.2229, grad_fn=<SumBackward0>)\n",
            "tensor([[-3.4552,  1.7544],\n",
            "        [ 4.3827,  4.7137],\n",
            "        [-0.6267,  1.7706]])\n"
          ],
          "name": "stdout"
        }
      ]
    },
    {
      "cell_type": "markdown",
      "metadata": {
        "id": "VeeOM958jtTl",
        "colab_type": "text"
      },
      "source": [
        "Now when the derivates are being calculated using the chain rules backwards, the the grad() value can be accessed."
      ]
    },
    {
      "cell_type": "code",
      "metadata": {
        "id": "bKacT1a_jtTm",
        "colab_type": "code",
        "colab": {
          "base_uri": "https://localhost:8080/",
          "height": 204
        },
        "outputId": "1b111d41-7814-4ff1-89aa-7a136d9ea951"
      },
      "source": [
        "# Example 3 - Using grad() we can break it if we do not reset the grad tensor to zero\n",
        "#because the gradients are being added.Lets see an example\n",
        "torch_ag_3 = torch.randn(3,3, requires_grad=True)\n",
        "print(torch_ag_3)\n",
        "out_ag = torch_ag.pow(2).sum()\n",
        "print(out_ag)\n",
        "out_ag.backward()\n",
        "print(\"First dy/dx :\", torch_ag.grad)\n",
        "#we do not reset gradients\n",
        "out_ag_1 = torch_ag.pow(2).sum()\n",
        "print(out_ag_1)\n",
        "out_ag_1.backward()\n",
        "print(\"Second dy/dx :\", torch_ag.grad)"
      ],
      "execution_count": 26,
      "outputs": [
        {
          "output_type": "stream",
          "text": [
            "tensor([[ 0.2895, -0.2748,  1.6189],\n",
            "        [-0.0550, -0.8474, -1.2440],\n",
            "        [-2.0512,  0.4041, -0.7822]], requires_grad=True)\n",
            "tensor(12.2229, grad_fn=<SumBackward0>)\n",
            "First dy/dx : tensor([[-7.9105,  2.5088],\n",
            "        [ 7.7653,  8.4273],\n",
            "        [-2.2534,  2.5411]])\n",
            "tensor(12.2229, grad_fn=<SumBackward0>)\n",
            "Second dy/dx : tensor([[-12.3657,   3.2632],\n",
            "        [ 11.1480,  12.1410],\n",
            "        [ -3.8800,   3.3117]])\n"
          ],
          "name": "stdout"
        }
      ]
    },
    {
      "cell_type": "markdown",
      "metadata": {
        "id": "V5R1kjnMjtTw",
        "colab_type": "text"
      },
      "source": [
        "It can be seen that even tough the calculation is the same for both situation starting from the same tensor values, the result of the grad is different! this is because the gradients related to a tensor shall be manually reset."
      ]
    },
    {
      "cell_type": "code",
      "metadata": {
        "id": "N1p0a08X8cV6",
        "colab_type": "code",
        "colab": {
          "base_uri": "https://localhost:8080/",
          "height": 204
        },
        "outputId": "3173d021-abf5-40a3-c04a-3ecb67ac8de0"
      },
      "source": [
        "#example where the gradients are reset\n",
        "torch_ag_4 = torch.randn(3,3, requires_grad=True)\n",
        "print(torch_ag_4)\n",
        "out_ag_4 = torch_ag_4.pow(2).sum()\n",
        "print(out_ag_4)\n",
        "out_ag_4.backward()\n",
        "print(\"First dy/dx :\", torch_ag_4.grad)\n",
        "#we do reset gradients\n",
        "torch_ag_4.grad.zero_()\n",
        "\n",
        "out_ag_5 = torch_ag_4.pow(2).sum()\n",
        "print(out_ag_5)\n",
        "out_ag_5.backward()\n",
        "print(\"Second dy/dx :\", torch_ag_4.grad)"
      ],
      "execution_count": 27,
      "outputs": [
        {
          "output_type": "stream",
          "text": [
            "tensor([[ 1.1674, -0.2521, -0.3498],\n",
            "        [-0.1106,  0.7092,  0.7290],\n",
            "        [-1.3655, -0.2924, -0.0019]], requires_grad=True)\n",
            "tensor(4.5453, grad_fn=<SumBackward0>)\n",
            "First dy/dx : tensor([[ 2.3349, -0.5042, -0.6996],\n",
            "        [-0.2212,  1.4183,  1.4579],\n",
            "        [-2.7309, -0.5847, -0.0039]])\n",
            "tensor(4.5453, grad_fn=<SumBackward0>)\n",
            "Second dy/dx : tensor([[ 2.3349, -0.5042, -0.6996],\n",
            "        [-0.2212,  1.4183,  1.4579],\n",
            "        [-2.7309, -0.5847, -0.0039]])\n"
          ],
          "name": "stdout"
        }
      ]
    },
    {
      "cell_type": "markdown",
      "metadata": {
        "id": "7LuSkvaLjtTx",
        "colab_type": "text"
      },
      "source": [
        "We saw during this example the whole functionality of the autograd in one tensor.\n",
        "\n",
        "\n",
        "---\n",
        "\n",
        "\n",
        "\n",
        "---\n",
        "\n"
      ]
    },
    {
      "cell_type": "markdown",
      "metadata": {
        "id": "TL1e5DxvjtTz",
        "colab_type": "text"
      },
      "source": [
        "## Function 4 - select()\n",
        "\n",
        "Slices the self tensor along the selected dimension at the given index. This function returns a view of the original tensor with the given dimension removed."
      ]
    },
    {
      "cell_type": "code",
      "metadata": {
        "id": "Vrf2c2uRjtT1",
        "colab_type": "code",
        "colab": {
          "base_uri": "https://localhost:8080/",
          "height": 85
        },
        "outputId": "226772a8-8468-4392-c7e5-1169e9107e87"
      },
      "source": [
        "# Example 1 - First approach to the funtion in a 2-Dimension tensor\n",
        "t4 = torch.randn(3,4)\n",
        "print(t4)\n",
        "#selected the first dimension (row) and 2 index (2º row)\n",
        "t4.select(0,1)\n"
      ],
      "execution_count": 33,
      "outputs": [
        {
          "output_type": "stream",
          "text": [
            "tensor([[ 0.6004,  0.3728,  0.7584,  0.9755],\n",
            "        [ 0.1234, -1.2345,  1.2973,  0.2076],\n",
            "        [ 0.0936, -1.4467,  0.0548,  0.0816]])\n"
          ],
          "name": "stdout"
        },
        {
          "output_type": "execute_result",
          "data": {
            "text/plain": [
              "tensor([ 0.1234, -1.2345,  1.2973,  0.2076])"
            ]
          },
          "metadata": {
            "tags": []
          },
          "execution_count": 33
        }
      ]
    },
    {
      "cell_type": "markdown",
      "metadata": {
        "id": "4VTF7IqojtT8",
        "colab_type": "text"
      },
      "source": [
        "In the example above we selected a sub-tensor from a tensor. given the dimension and index to be extracted.\n",
        "Now we try with higher dimensional tensors and we will try to understand how to use it under such circunstances."
      ]
    },
    {
      "cell_type": "code",
      "metadata": {
        "id": "NTCOlDXTjtT-",
        "colab_type": "code",
        "colab": {
          "base_uri": "https://localhost:8080/",
          "height": 459
        },
        "outputId": "10e0cd3b-0d55-4e37-b9df-542d6741a371"
      },
      "source": [
        "# Example 2 - Selectinh higher dimensional arrays\n",
        "# for example 2 sets of 3 2x2 matrices\n",
        "t4_1 = torch.randn(2,3,2,2)\n",
        "print(t4_1)\n",
        "t4_1.select(0, 1)"
      ],
      "execution_count": 37,
      "outputs": [
        {
          "output_type": "stream",
          "text": [
            "tensor([[[[-0.0200, -1.7871],\n",
            "          [ 0.8136,  0.3182]],\n",
            "\n",
            "         [[ 0.1033,  0.8886],\n",
            "          [ 2.2203,  0.1874]],\n",
            "\n",
            "         [[-0.3291, -0.5627],\n",
            "          [ 0.7899,  0.1892]]],\n",
            "\n",
            "\n",
            "        [[[ 1.1983, -0.2934],\n",
            "          [-0.4307,  0.2958]],\n",
            "\n",
            "         [[-1.4634, -0.2771],\n",
            "          [-0.2457, -0.0633]],\n",
            "\n",
            "         [[ 0.1074, -0.5297],\n",
            "          [ 0.3714,  1.5535]]]])\n"
          ],
          "name": "stdout"
        },
        {
          "output_type": "execute_result",
          "data": {
            "text/plain": [
              "tensor([[[ 1.1983, -0.2934],\n",
              "         [-0.4307,  0.2958]],\n",
              "\n",
              "        [[-1.4634, -0.2771],\n",
              "         [-0.2457, -0.0633]],\n",
              "\n",
              "        [[ 0.1074, -0.5297],\n",
              "         [ 0.3714,  1.5535]]])"
            ]
          },
          "metadata": {
            "tags": []
          },
          "execution_count": 37
        }
      ]
    },
    {
      "cell_type": "markdown",
      "metadata": {
        "id": "vzW_BcezjtUO",
        "colab_type": "text"
      },
      "source": [
        "It can be seen in the example above, that we are selecting the first dimension (0) which correspond to the sets, and from them the second set (1).\n",
        "Note that the indexes starts at 0."
      ]
    },
    {
      "cell_type": "code",
      "metadata": {
        "id": "U2Xev3KljtUQ",
        "colab_type": "code",
        "colab": {
          "base_uri": "https://localhost:8080/",
          "height": 214
        },
        "outputId": "7583d963-8bea-4796-a32a-f343a783e812"
      },
      "source": [
        "# Example 3 - Breaking the method by selecting a higher dimension than the ones from the tensor\n",
        "t4_2 = torch.randn(3,4,5,6)\n",
        "print(t4_2.size())\n",
        "t4_2.select(1,4)"
      ],
      "execution_count": 38,
      "outputs": [
        {
          "output_type": "stream",
          "text": [
            "torch.Size([3, 4, 5, 6])\n"
          ],
          "name": "stdout"
        },
        {
          "output_type": "error",
          "ename": "IndexError",
          "evalue": "ignored",
          "traceback": [
            "\u001b[0;31m---------------------------------------------------------------------------\u001b[0m",
            "\u001b[0;31mIndexError\u001b[0m                                Traceback (most recent call last)",
            "\u001b[0;32m<ipython-input-38-0f8cba6acbe3>\u001b[0m in \u001b[0;36m<module>\u001b[0;34m()\u001b[0m\n\u001b[1;32m      2\u001b[0m \u001b[0mt4_2\u001b[0m \u001b[0;34m=\u001b[0m \u001b[0mtorch\u001b[0m\u001b[0;34m.\u001b[0m\u001b[0mrandn\u001b[0m\u001b[0;34m(\u001b[0m\u001b[0;36m3\u001b[0m\u001b[0;34m,\u001b[0m\u001b[0;36m4\u001b[0m\u001b[0;34m,\u001b[0m\u001b[0;36m5\u001b[0m\u001b[0;34m,\u001b[0m\u001b[0;36m6\u001b[0m\u001b[0;34m)\u001b[0m\u001b[0;34m\u001b[0m\u001b[0;34m\u001b[0m\u001b[0m\n\u001b[1;32m      3\u001b[0m \u001b[0mprint\u001b[0m\u001b[0;34m(\u001b[0m\u001b[0mt4_2\u001b[0m\u001b[0;34m.\u001b[0m\u001b[0msize\u001b[0m\u001b[0;34m(\u001b[0m\u001b[0;34m)\u001b[0m\u001b[0;34m)\u001b[0m\u001b[0;34m\u001b[0m\u001b[0;34m\u001b[0m\u001b[0m\n\u001b[0;32m----> 4\u001b[0;31m \u001b[0mt4_2\u001b[0m\u001b[0;34m.\u001b[0m\u001b[0mselect\u001b[0m\u001b[0;34m(\u001b[0m\u001b[0;36m1\u001b[0m\u001b[0;34m,\u001b[0m\u001b[0;36m4\u001b[0m\u001b[0;34m)\u001b[0m\u001b[0;34m\u001b[0m\u001b[0;34m\u001b[0m\u001b[0m\n\u001b[0m",
            "\u001b[0;31mIndexError\u001b[0m: select(): index 4 out of range for tensor of size [3, 4, 5, 6] at dimension 1"
          ]
        }
      ]
    },
    {
      "cell_type": "markdown",
      "metadata": {
        "id": "sj-jCQtqjtUa",
        "colab_type": "text"
      },
      "source": [
        "In the example above the errors comes from selecting an index 4 in dimension 1 where the maximum (starting in 0) would be 3 (dimension = 4)."
      ]
    },
    {
      "cell_type": "markdown",
      "metadata": {
        "id": "ZLztK7k_jtUc",
        "colab_type": "text"
      },
      "source": [
        "Very interesting function for selecting subset of data from a given tensor. For example i can imagine it can be used when a tensor 3x128x128 represents 3 channels of a RGB image. Select() then, may be used for selecting each of the channels to its own tensor.\n",
        "\n",
        "---\n",
        "\n"
      ]
    },
    {
      "cell_type": "markdown",
      "metadata": {
        "id": "VjeJNwZbjtUd",
        "colab_type": "text"
      },
      "source": [
        "## Function 5 - where()\n",
        "\n",
        "Return a tensor of elements selected from either x or y, depending on condition.\n"
      ]
    },
    {
      "cell_type": "code",
      "metadata": {
        "id": "r3Ct4jOmjtUf",
        "colab_type": "code",
        "colab": {
          "base_uri": "https://localhost:8080/",
          "height": 170
        },
        "outputId": "e27487bb-8402-4b7d-8ea1-0d3eb0c67f4e"
      },
      "source": [
        "# Example 1 - first approach to the funtion\n",
        "t5 = torch.zeros(3,3)\n",
        "print(t5)\n",
        "#last row set to ones\n",
        "t5[2,:] = torch.ones(1,3)\n",
        "print(t5)\n",
        "#where applied\n",
        "t5_out = torch.where(t5<0.5, torch.tensor(0.1), torch.tensor(0.9)) \n",
        "t5_out"
      ],
      "execution_count": 54,
      "outputs": [
        {
          "output_type": "stream",
          "text": [
            "tensor([[0., 0., 0.],\n",
            "        [0., 0., 0.],\n",
            "        [0., 0., 0.]])\n",
            "tensor([[0., 0., 0.],\n",
            "        [0., 0., 0.],\n",
            "        [1., 1., 1.]])\n"
          ],
          "name": "stdout"
        },
        {
          "output_type": "execute_result",
          "data": {
            "text/plain": [
              "tensor([[0.1000, 0.1000, 0.1000],\n",
              "        [0.1000, 0.1000, 0.1000],\n",
              "        [0.9000, 0.9000, 0.9000]])"
            ]
          },
          "metadata": {
            "tags": []
          },
          "execution_count": 54
        }
      ]
    },
    {
      "cell_type": "markdown",
      "metadata": {
        "id": "bwpSEZs9jtUz",
        "colab_type": "text"
      },
      "source": [
        "The example above shows how where() can be used for modifying values of a tensor under certain circunstances "
      ]
    },
    {
      "cell_type": "code",
      "metadata": {
        "id": "f4ZpNfrOjtU0",
        "colab_type": "code",
        "colab": {
          "base_uri": "https://localhost:8080/",
          "height": 119
        },
        "outputId": "22c0a7db-414f-4e61-fd7a-0c6af338a14e"
      },
      "source": [
        "# Example 2 - where() used for gettng values from another tensor\n",
        "# the negative values from t5_1 are modified by the values in t5_2 (all of them 1's)\n",
        "t5_1 = torch.randn(3, 3)\n",
        "t5_2 = torch.ones(3, 3)\n",
        "print(t5_1)\n",
        "torch.where(t5_1 > 0, t5_1, t5_2)"
      ],
      "execution_count": 56,
      "outputs": [
        {
          "output_type": "stream",
          "text": [
            "tensor([[-0.9704,  0.9675, -0.9089],\n",
            "        [ 0.6830, -0.5334,  0.5500],\n",
            "        [ 1.2057, -0.2569,  0.3177]])\n"
          ],
          "name": "stdout"
        },
        {
          "output_type": "execute_result",
          "data": {
            "text/plain": [
              "tensor([[1.0000, 0.9675, 1.0000],\n",
              "        [0.6830, 1.0000, 0.5500],\n",
              "        [1.2057, 1.0000, 0.3177]])"
            ]
          },
          "metadata": {
            "tags": []
          },
          "execution_count": 56
        }
      ]
    },
    {
      "cell_type": "markdown",
      "metadata": {
        "id": "zYCyZqLXjtU7",
        "colab_type": "text"
      },
      "source": [
        "Finally, below we will show can the where method may be misused by for example setting a non boolean expression"
      ]
    },
    {
      "cell_type": "code",
      "metadata": {
        "id": "G5UXKr_tjtU8",
        "colab_type": "code",
        "colab": {
          "base_uri": "https://localhost:8080/",
          "height": 129
        },
        "outputId": "8a5c8a4b-e9fd-4843-d061-e276a1c25694"
      },
      "source": [
        "# Example 3 - breaking it by a non-boolean expresion\n",
        "t5_1 = torch.randn(3, 3)\n",
        "print(t5_1)\n",
        "torch.where(t5_1 = 0, t5_1, torch.tensor(1))"
      ],
      "execution_count": 57,
      "outputs": [
        {
          "output_type": "error",
          "ename": "SyntaxError",
          "evalue": "ignored",
          "traceback": [
            "\u001b[0;36m  File \u001b[0;32m\"<ipython-input-57-303ae7887ef1>\"\u001b[0;36m, line \u001b[0;32m4\u001b[0m\n\u001b[0;31m    torch.where(t5_1 = 0, t5_1, torch.tensor(1))\u001b[0m\n\u001b[0m                         ^\u001b[0m\n\u001b[0;31mSyntaxError\u001b[0m\u001b[0;31m:\u001b[0m positional argument follows keyword argument\n"
          ]
        }
      ]
    },
    {
      "cell_type": "markdown",
      "metadata": {
        "id": "ZtCg61h6jtVF",
        "colab_type": "text"
      },
      "source": [
        "It can be seen, that the expression <code> t5_1= 0 </code> which is not a boolean expression crashes the method with a SyntaxError."
      ]
    },
    {
      "cell_type": "markdown",
      "metadata": {
        "id": "wgBirqjVjtVH",
        "colab_type": "text"
      },
      "source": [
        "Where() function is quite interesting, in order for example to fill missing or wrong values in a large tensor based on a condition (as seen above, for example removing all negative values of the tensor)"
      ]
    },
    {
      "cell_type": "markdown",
      "metadata": {
        "id": "B21vIH0GjtVI",
        "colab_type": "text"
      },
      "source": [
        "## Conclusion\n",
        "\n",
        "In this notebook, a set of very useful and common method related to the Tensor objects of Pytorch has been explained. Special attention may be payed to the grad() and view() method which will be extensively used when programing using Pytorch library."
      ]
    },
    {
      "cell_type": "markdown",
      "metadata": {
        "id": "-HVcHDkSjtVJ",
        "colab_type": "text"
      },
      "source": [
        "## Reference Links\n",
        "Provide links to your references and other interesting articles about tensors\n",
        "* Official documentation for `torch.Tensor`: https://pytorch.org/docs/stable/tensors.html\n",
        "* ..."
      ]
    },
    {
      "cell_type": "code",
      "metadata": {
        "id": "llTHVKX6jtVM",
        "colab_type": "code",
        "outputId": "fa53af61-9871-4a48-95ee-45e12f010861",
        "colab": {
          "base_uri": "https://localhost:8080/",
          "height": 51
        }
      },
      "source": [
        "!pip install jovian --upgrade --quiet"
      ],
      "execution_count": 58,
      "outputs": [
        {
          "output_type": "stream",
          "text": [
            "\u001b[?25l\r\u001b[K     |████                            | 10kB 22.6MB/s eta 0:00:01\r\u001b[K     |███████▉                        | 20kB 2.1MB/s eta 0:00:01\r\u001b[K     |███████████▉                    | 30kB 2.7MB/s eta 0:00:01\r\u001b[K     |███████████████▊                | 40kB 3.0MB/s eta 0:00:01\r\u001b[K     |███████████████████▋            | 51kB 2.4MB/s eta 0:00:01\r\u001b[K     |███████████████████████▋        | 61kB 2.7MB/s eta 0:00:01\r\u001b[K     |███████████████████████████▌    | 71kB 3.0MB/s eta 0:00:01\r\u001b[K     |███████████████████████████████▍| 81kB 3.3MB/s eta 0:00:01\r\u001b[K     |████████████████████████████████| 92kB 2.7MB/s \n",
            "\u001b[?25h  Building wheel for uuid (setup.py) ... \u001b[?25l\u001b[?25hdone\n"
          ],
          "name": "stdout"
        }
      ]
    },
    {
      "cell_type": "code",
      "metadata": {
        "id": "xNE-z-YjjtVY",
        "colab_type": "code",
        "colab": {}
      },
      "source": [
        "import jovian"
      ],
      "execution_count": 0,
      "outputs": []
    },
    {
      "cell_type": "code",
      "metadata": {
        "id": "EMZxdKlOjtVh",
        "colab_type": "code",
        "outputId": "0add33b7-38ab-4372-ac2e-e089b67859ee",
        "colab": {
          "base_uri": "https://localhost:8080/",
          "height": 34
        }
      },
      "source": [
        "jovian.commit()"
      ],
      "execution_count": 60,
      "outputs": [
        {
          "output_type": "stream",
          "text": [
            "\u001b[31m[jovian] Error: Failed to detect Jupyter notebook or Python script. Skipping..\u001b[0m\n"
          ],
          "name": "stderr"
        }
      ]
    },
    {
      "cell_type": "code",
      "metadata": {
        "id": "YtNIcCB_jtVu",
        "colab_type": "code",
        "colab": {}
      },
      "source": [
        ""
      ],
      "execution_count": 0,
      "outputs": []
    }
  ]
}